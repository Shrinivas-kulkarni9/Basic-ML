{
  "cells": [
    {
      "cell_type": "code",
      "execution_count": null,
      "metadata": {
        "id": "RuSYpLuZnN15",
        "outputId": "ecf7b6ef-2846-40da-fe63-7a3d9ad01751"
      },
      "outputs": [
        {
          "data": {
            "text/html": [
              "<div>\n",
              "<style scoped>\n",
              "    .dataframe tbody tr th:only-of-type {\n",
              "        vertical-align: middle;\n",
              "    }\n",
              "\n",
              "    .dataframe tbody tr th {\n",
              "        vertical-align: top;\n",
              "    }\n",
              "\n",
              "    .dataframe thead th {\n",
              "        text-align: right;\n",
              "    }\n",
              "</style>\n",
              "<table border=\"1\" class=\"dataframe\">\n",
              "  <thead>\n",
              "    <tr style=\"text-align: right;\">\n",
              "      <th></th>\n",
              "      <th>year</th>\n",
              "      <th>month</th>\n",
              "      <th>day</th>\n",
              "      <th>week</th>\n",
              "      <th>temp_2</th>\n",
              "      <th>temp_1</th>\n",
              "      <th>average</th>\n",
              "      <th>actual</th>\n",
              "      <th>forecast_noaa</th>\n",
              "      <th>forecast_acc</th>\n",
              "      <th>forecast_under</th>\n",
              "      <th>friend</th>\n",
              "    </tr>\n",
              "  </thead>\n",
              "  <tbody>\n",
              "    <tr>\n",
              "      <th>0</th>\n",
              "      <td>2016</td>\n",
              "      <td>1</td>\n",
              "      <td>1</td>\n",
              "      <td>Fri</td>\n",
              "      <td>45</td>\n",
              "      <td>45</td>\n",
              "      <td>45.6</td>\n",
              "      <td>45</td>\n",
              "      <td>43</td>\n",
              "      <td>50</td>\n",
              "      <td>44</td>\n",
              "      <td>29</td>\n",
              "    </tr>\n",
              "    <tr>\n",
              "      <th>1</th>\n",
              "      <td>2016</td>\n",
              "      <td>1</td>\n",
              "      <td>2</td>\n",
              "      <td>Sat</td>\n",
              "      <td>44</td>\n",
              "      <td>45</td>\n",
              "      <td>45.7</td>\n",
              "      <td>44</td>\n",
              "      <td>41</td>\n",
              "      <td>50</td>\n",
              "      <td>44</td>\n",
              "      <td>61</td>\n",
              "    </tr>\n",
              "    <tr>\n",
              "      <th>2</th>\n",
              "      <td>2016</td>\n",
              "      <td>1</td>\n",
              "      <td>3</td>\n",
              "      <td>Sun</td>\n",
              "      <td>45</td>\n",
              "      <td>44</td>\n",
              "      <td>45.8</td>\n",
              "      <td>41</td>\n",
              "      <td>43</td>\n",
              "      <td>46</td>\n",
              "      <td>47</td>\n",
              "      <td>56</td>\n",
              "    </tr>\n",
              "    <tr>\n",
              "      <th>3</th>\n",
              "      <td>2016</td>\n",
              "      <td>1</td>\n",
              "      <td>4</td>\n",
              "      <td>Mon</td>\n",
              "      <td>44</td>\n",
              "      <td>41</td>\n",
              "      <td>45.9</td>\n",
              "      <td>40</td>\n",
              "      <td>44</td>\n",
              "      <td>48</td>\n",
              "      <td>46</td>\n",
              "      <td>53</td>\n",
              "    </tr>\n",
              "    <tr>\n",
              "      <th>4</th>\n",
              "      <td>2016</td>\n",
              "      <td>1</td>\n",
              "      <td>5</td>\n",
              "      <td>Tues</td>\n",
              "      <td>41</td>\n",
              "      <td>40</td>\n",
              "      <td>46.0</td>\n",
              "      <td>44</td>\n",
              "      <td>46</td>\n",
              "      <td>46</td>\n",
              "      <td>46</td>\n",
              "      <td>41</td>\n",
              "    </tr>\n",
              "  </tbody>\n",
              "</table>\n",
              "</div>"
            ],
            "text/plain": [
              "   year  month  day  week  temp_2  temp_1  average  actual  forecast_noaa  \\\n",
              "0  2016      1    1   Fri      45      45     45.6      45             43   \n",
              "1  2016      1    2   Sat      44      45     45.7      44             41   \n",
              "2  2016      1    3   Sun      45      44     45.8      41             43   \n",
              "3  2016      1    4   Mon      44      41     45.9      40             44   \n",
              "4  2016      1    5  Tues      41      40     46.0      44             46   \n",
              "\n",
              "   forecast_acc  forecast_under  friend  \n",
              "0            50              44      29  \n",
              "1            50              44      61  \n",
              "2            46              47      56  \n",
              "3            48              46      53  \n",
              "4            46              46      41  "
            ]
          },
          "execution_count": 2,
          "metadata": {},
          "output_type": "execute_result"
        }
      ],
      "source": [
        "import pandas as pd\n",
        "features = pd.read_csv(\"temps.csv\")\n",
        "features.head(5)"
      ]
    },
    {
      "cell_type": "code",
      "execution_count": null,
      "metadata": {
        "id": "gjw3PA2DnN18",
        "outputId": "5636c7fe-301e-46c6-d87b-50ed7e1057d1"
      },
      "outputs": [
        {
          "name": "stdout",
          "output_type": "stream",
          "text": [
            "The shape of our features is: (348, 12)\n"
          ]
        }
      ],
      "source": [
        "print('The shape of our features is:', features.shape)"
      ]
    },
    {
      "cell_type": "code",
      "execution_count": null,
      "metadata": {
        "id": "xIaSrqe1nN19",
        "outputId": "3740f160-dafc-44c5-d123-3a70e62b9cfa"
      },
      "outputs": [
        {
          "data": {
            "text/html": [
              "<div>\n",
              "<style scoped>\n",
              "    .dataframe tbody tr th:only-of-type {\n",
              "        vertical-align: middle;\n",
              "    }\n",
              "\n",
              "    .dataframe tbody tr th {\n",
              "        vertical-align: top;\n",
              "    }\n",
              "\n",
              "    .dataframe thead th {\n",
              "        text-align: right;\n",
              "    }\n",
              "</style>\n",
              "<table border=\"1\" class=\"dataframe\">\n",
              "  <thead>\n",
              "    <tr style=\"text-align: right;\">\n",
              "      <th></th>\n",
              "      <th>average</th>\n",
              "      <th>actual</th>\n",
              "      <th>forecast_noaa</th>\n",
              "      <th>forecast_acc</th>\n",
              "      <th>forecast_under</th>\n",
              "      <th>friend</th>\n",
              "      <th>week_Fri</th>\n",
              "      <th>week_Mon</th>\n",
              "      <th>week_Sat</th>\n",
              "      <th>week_Sun</th>\n",
              "      <th>week_Thurs</th>\n",
              "      <th>week_Tues</th>\n",
              "      <th>week_Wed</th>\n",
              "    </tr>\n",
              "  </thead>\n",
              "  <tbody>\n",
              "    <tr>\n",
              "      <th>0</th>\n",
              "      <td>45.6</td>\n",
              "      <td>45</td>\n",
              "      <td>43</td>\n",
              "      <td>50</td>\n",
              "      <td>44</td>\n",
              "      <td>29</td>\n",
              "      <td>1</td>\n",
              "      <td>0</td>\n",
              "      <td>0</td>\n",
              "      <td>0</td>\n",
              "      <td>0</td>\n",
              "      <td>0</td>\n",
              "      <td>0</td>\n",
              "    </tr>\n",
              "    <tr>\n",
              "      <th>1</th>\n",
              "      <td>45.7</td>\n",
              "      <td>44</td>\n",
              "      <td>41</td>\n",
              "      <td>50</td>\n",
              "      <td>44</td>\n",
              "      <td>61</td>\n",
              "      <td>0</td>\n",
              "      <td>0</td>\n",
              "      <td>1</td>\n",
              "      <td>0</td>\n",
              "      <td>0</td>\n",
              "      <td>0</td>\n",
              "      <td>0</td>\n",
              "    </tr>\n",
              "    <tr>\n",
              "      <th>2</th>\n",
              "      <td>45.8</td>\n",
              "      <td>41</td>\n",
              "      <td>43</td>\n",
              "      <td>46</td>\n",
              "      <td>47</td>\n",
              "      <td>56</td>\n",
              "      <td>0</td>\n",
              "      <td>0</td>\n",
              "      <td>0</td>\n",
              "      <td>1</td>\n",
              "      <td>0</td>\n",
              "      <td>0</td>\n",
              "      <td>0</td>\n",
              "    </tr>\n",
              "    <tr>\n",
              "      <th>3</th>\n",
              "      <td>45.9</td>\n",
              "      <td>40</td>\n",
              "      <td>44</td>\n",
              "      <td>48</td>\n",
              "      <td>46</td>\n",
              "      <td>53</td>\n",
              "      <td>0</td>\n",
              "      <td>1</td>\n",
              "      <td>0</td>\n",
              "      <td>0</td>\n",
              "      <td>0</td>\n",
              "      <td>0</td>\n",
              "      <td>0</td>\n",
              "    </tr>\n",
              "    <tr>\n",
              "      <th>4</th>\n",
              "      <td>46.0</td>\n",
              "      <td>44</td>\n",
              "      <td>46</td>\n",
              "      <td>46</td>\n",
              "      <td>46</td>\n",
              "      <td>41</td>\n",
              "      <td>0</td>\n",
              "      <td>0</td>\n",
              "      <td>0</td>\n",
              "      <td>0</td>\n",
              "      <td>0</td>\n",
              "      <td>1</td>\n",
              "      <td>0</td>\n",
              "    </tr>\n",
              "  </tbody>\n",
              "</table>\n",
              "</div>"
            ],
            "text/plain": [
              "   average  actual  forecast_noaa  forecast_acc  forecast_under  friend  \\\n",
              "0     45.6      45             43            50              44      29   \n",
              "1     45.7      44             41            50              44      61   \n",
              "2     45.8      41             43            46              47      56   \n",
              "3     45.9      40             44            48              46      53   \n",
              "4     46.0      44             46            46              46      41   \n",
              "\n",
              "   week_Fri  week_Mon  week_Sat  week_Sun  week_Thurs  week_Tues  week_Wed  \n",
              "0         1         0         0         0           0          0         0  \n",
              "1         0         0         1         0           0          0         0  \n",
              "2         0         0         0         1           0          0         0  \n",
              "3         0         1         0         0           0          0         0  \n",
              "4         0         0         0         0           0          1         0  "
            ]
          },
          "execution_count": 4,
          "metadata": {},
          "output_type": "execute_result"
        }
      ],
      "source": [
        "features = pd.get_dummies(features)\n",
        "features.iloc[:,5:].head(5)"
      ]
    },
    {
      "cell_type": "code",
      "execution_count": null,
      "metadata": {
        "id": "_vel32VUnN1-",
        "outputId": "74255f55-ebcc-4857-bbaf-44db9beafa55"
      },
      "outputs": [
        {
          "data": {
            "text/plain": [
              "(348, 18)"
            ]
          },
          "execution_count": 5,
          "metadata": {},
          "output_type": "execute_result"
        }
      ],
      "source": [
        "features.shape"
      ]
    },
    {
      "cell_type": "code",
      "execution_count": null,
      "metadata": {
        "id": "UO9y4dbmnN1_"
      },
      "outputs": [],
      "source": [
        "import numpy as np\n",
        "labels = np.array(features['actual'])\n",
        "features = features.drop('actual', axis = 1)\n",
        "features_list = list(features.columns)\n",
        "features = np.array(features)"
      ]
    },
    {
      "cell_type": "code",
      "execution_count": null,
      "metadata": {
        "id": "owtRaiVlnN1_",
        "outputId": "7b6514fa-8c3f-4852-9469-ebf10dc15624"
      },
      "outputs": [
        {
          "data": {
            "text/plain": [
              "array([[2.016e+03, 1.000e+00, 1.000e+00, ..., 0.000e+00, 0.000e+00,\n",
              "        0.000e+00],\n",
              "       [2.016e+03, 1.000e+00, 2.000e+00, ..., 0.000e+00, 0.000e+00,\n",
              "        0.000e+00],\n",
              "       [2.016e+03, 1.000e+00, 3.000e+00, ..., 0.000e+00, 0.000e+00,\n",
              "        0.000e+00],\n",
              "       ...,\n",
              "       [2.016e+03, 1.200e+01, 2.900e+01, ..., 1.000e+00, 0.000e+00,\n",
              "        0.000e+00],\n",
              "       [2.016e+03, 1.200e+01, 3.000e+01, ..., 0.000e+00, 0.000e+00,\n",
              "        0.000e+00],\n",
              "       [2.016e+03, 1.200e+01, 3.100e+01, ..., 0.000e+00, 0.000e+00,\n",
              "        0.000e+00]])"
            ]
          },
          "execution_count": 7,
          "metadata": {},
          "output_type": "execute_result"
        }
      ],
      "source": [
        "features"
      ]
    },
    {
      "cell_type": "code",
      "execution_count": null,
      "metadata": {
        "id": "ccGeppcwnN2A",
        "outputId": "1c689a7c-605e-4ced-b984-db79f056a475"
      },
      "outputs": [
        {
          "data": {
            "text/plain": [
              "17"
            ]
          },
          "execution_count": 8,
          "metadata": {},
          "output_type": "execute_result"
        }
      ],
      "source": [
        "len(features[0])"
      ]
    },
    {
      "cell_type": "code",
      "execution_count": null,
      "metadata": {
        "id": "ZhdGU5UNnN2A"
      },
      "outputs": [],
      "source": [
        "from sklearn.model_selection import train_test_split\n",
        "train_features, test_features, train_labels, test_labels = train_test_split(features, labels, test_size = 0.25, random_state = 42)"
      ]
    },
    {
      "cell_type": "code",
      "execution_count": null,
      "metadata": {
        "id": "IQ0PO4FrnN2B",
        "outputId": "dc0c9417-449a-4d91-c337-699083e4c5ce"
      },
      "outputs": [
        {
          "name": "stdout",
          "output_type": "stream",
          "text": [
            "Training Features Shape: (261, 17)\n",
            "Training Labels Shape: (261,)\n",
            "Testing Features Shape: (87, 17)\n",
            "Testing Labels Shape: (87,)\n"
          ]
        }
      ],
      "source": [
        "print('Training Features Shape:', train_features.shape)\n",
        "print('Training Labels Shape:', train_labels.shape)\n",
        "print('Testing Features Shape:', test_features.shape)\n",
        "print('Testing Labels Shape:', test_labels.shape)"
      ]
    },
    {
      "cell_type": "code",
      "execution_count": null,
      "metadata": {
        "id": "dlZ1Z0JGnN2C",
        "outputId": "a205a6f8-eea7-4838-9315-b9c0013b994e"
      },
      "outputs": [
        {
          "name": "stdout",
          "output_type": "stream",
          "text": [
            "5 Debugger ***\n",
            "Average baseline error:  5.06\n"
          ]
        }
      ],
      "source": [
        "print(features_list.index('average'),'Debugger ***')\n",
        "baseline_preds = test_features[:, features_list.index('average')]\n",
        "baseline_errors = abs(baseline_preds - test_labels)\n",
        "print('Average baseline error: ', round(np.mean(baseline_errors), 2))"
      ]
    },
    {
      "cell_type": "code",
      "execution_count": null,
      "metadata": {
        "id": "BgP5L4dWnN2D"
      },
      "outputs": [],
      "source": [
        "from sklearn.ensemble import RandomForestRegressor\n",
        "rf = RandomForestRegressor(n_estimators = 1000, random_state = 42)\n",
        "rf.fit(train_features, train_labels);"
      ]
    },
    {
      "cell_type": "code",
      "execution_count": null,
      "metadata": {
        "id": "56zNk80UnN2D",
        "outputId": "40efdd59-45fd-40d8-a38c-3d5014138eed"
      },
      "outputs": [
        {
          "name": "stdout",
          "output_type": "stream",
          "text": [
            "Mean Absolute Error: 3.87 degrees.\n"
          ]
        }
      ],
      "source": [
        "predictions = rf.predict(test_features)\n",
        "errors = abs(predictions - test_labels)\n",
        "print('Mean Absolute Error:', round(np.mean(errors), 2), 'degrees.')"
      ]
    },
    {
      "cell_type": "code",
      "execution_count": null,
      "metadata": {
        "id": "2k-3RTFynN2E",
        "outputId": "603ceee7-3851-4cdb-967b-bbcab086ad0b"
      },
      "outputs": [
        {
          "name": "stdout",
          "output_type": "stream",
          "text": [
            "Accuracy: 93.93 %.\n"
          ]
        }
      ],
      "source": [
        "mape = 100 * (errors / test_labels)\n",
        "accuracy = 100 - np.mean(mape)\n",
        "print('Accuracy:', round(accuracy, 2), '%.')"
      ]
    },
    {
      "cell_type": "code",
      "execution_count": null,
      "metadata": {
        "id": "LCyx9NvFnN2E"
      },
      "outputs": [],
      "source": []
    }
  ],
  "metadata": {
    "kernelspec": {
      "display_name": "Python 3",
      "language": "python",
      "name": "python3"
    },
    "language_info": {
      "codemirror_mode": {
        "name": "ipython",
        "version": 3
      },
      "file_extension": ".py",
      "mimetype": "text/x-python",
      "name": "python",
      "nbconvert_exporter": "python",
      "pygments_lexer": "ipython3",
      "version": "3.8.3"
    },
    "colab": {
      "provenance": []
    }
  },
  "nbformat": 4,
  "nbformat_minor": 0
}